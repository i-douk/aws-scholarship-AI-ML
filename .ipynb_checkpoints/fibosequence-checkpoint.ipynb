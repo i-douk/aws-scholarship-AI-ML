{
 "cells": [
  {
   "cell_type": "code",
   "execution_count": 1,
   "id": "220efd7e-9a1d-4571-967b-b158caa95ba0",
   "metadata": {},
   "outputs": [
    {
     "name": "stdout",
     "output_type": "stream",
     "text": [
      "Hello world\n"
     ]
    }
   ],
   "source": [
    "print('Hello world')"
   ]
  },
  {
   "cell_type": "markdown",
   "id": "bdbbffd0-7608-4818-9f11-2190efa65c88",
   "metadata": {},
   "source": [
    "This is a markdown"
   ]
  },
  {
   "cell_type": "code",
   "execution_count": 2,
   "id": "a528a1b4-9198-46ab-9802-3ae2e1332567",
   "metadata": {},
   "outputs": [
    {
     "name": "stdout",
     "output_type": "stream",
     "text": [
      "This is where the merging happens\n"
     ]
    }
   ],
   "source": [
    "print('This is where the merging happens')"
   ]
  },
  {
   "cell_type": "code",
   "execution_count": 3,
   "id": "ee5f128b-0f70-4fe6-a251-b6313889ebc3",
   "metadata": {},
   "outputs": [
    {
     "name": "stdout",
     "output_type": "stream",
     "text": [
      "I intend to merge you with the following\n"
     ]
    }
   ],
   "source": [
    "print('I intend to merge you with the following')"
   ]
  },
  {
   "cell_type": "code",
   "execution_count": null,
   "id": "e445b378-4710-40e7-806a-0c788d1ea554",
   "metadata": {},
   "outputs": [],
   "source": []
  }
 ],
 "metadata": {
  "kernelspec": {
   "display_name": "Python 3 (ipykernel)",
   "language": "python",
   "name": "python3"
  },
  "language_info": {
   "codemirror_mode": {
    "name": "ipython",
    "version": 3
   },
   "file_extension": ".py",
   "mimetype": "text/x-python",
   "name": "python",
   "nbconvert_exporter": "python",
   "pygments_lexer": "ipython3",
   "version": "3.12.3"
  }
 },
 "nbformat": 4,
 "nbformat_minor": 5
}
