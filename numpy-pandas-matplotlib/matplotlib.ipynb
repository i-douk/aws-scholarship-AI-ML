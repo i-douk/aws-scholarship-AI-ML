{
 "cells": [
  {
   "cell_type": "code",
   "execution_count": null,
   "metadata": {},
   "outputs": [],
   "source": [
    "# Necessary imports\n",
    "import numpy as np\n",
    "import pandas as pd\n",
    "import matplotlib.pyplot as plt\n",
    "import seaborn as sb\n",
    "%matplotlib inline\n",
    "\n",
    "# Read the csv file, and check its top 10 rows\n",
    "pokemon = pd.read_csv('pokemon.csv')\n",
    "print(pokemon.shape)\n",
    "pokemon.head(10)\n",
    "\n",
    "# A semicolon (;) at the end of the statement will supress printing the plotting information\n",
    "sb.countplot(data=pokemon, x='generation_id');"
   ]
  },
  {
   "cell_type": "code",
   "execution_count": null,
   "metadata": {},
   "outputs": [],
   "source": [
    "# The `color_palette()` returns the the current / default palette as a list of RGB tuples. \n",
    "# Each tuple consists of three digits specifying the red, green, and blue channel values to specify a color. \n",
    "# Choose the first tuple of RGB colors\n",
    "base_color = sb.color_palette()[0]\n",
    "\n",
    "# Use the `color` argument\n",
    "sb.countplot(data=pokemon, x='generation_id', color=base_color);"
   ]
  },
  {
   "cell_type": "code",
   "execution_count": null,
   "metadata": {},
   "outputs": [],
   "source": [
    "# Return the Series having unique values\n",
    "x = pokemon['generation_id'].unique()\n",
    "\n",
    "# Return the Series having frequency count of each unique value\n",
    "y = pokemon['generation_id'].value_counts(sort=False)\n",
    "\n",
    "plt.bar(x, y)\n",
    "\n",
    "# Labeling the axes\n",
    "plt.xlabel('generation_id')\n",
    "plt.ylabel('count')\n",
    "\n",
    "# Dsiplay the plot\n",
    "plt.show()"
   ]
  },
  {
   "cell_type": "code",
   "execution_count": null,
   "metadata": {},
   "outputs": [],
   "source": [
    "# Static-ordering the bars\n",
    "sb.countplot(data=pokemon, x='generation_id', color=base_color, order=[5,1,3,4,2,7,6]);\n",
    "\n",
    "# Dynamic-ordering the bars\n",
    "# The order of the display of the bars can be computed with the following logic.\n",
    "# Count the frequency of each unique value in the 'generation_id' column, and sort it in descending order\n",
    "# Returns a Series\n",
    "freq = pokemon['generation_id'].value_counts()\n",
    "\n",
    "# Get the indexes of the Series\n",
    "gen_order = freq.index\n",
    "\n",
    "# Plot the bar chart in the decreasing order of the frequency of the `generation_id`\n",
    "sb.countplot(data=pokemon, x='generation_id', color=base_color, order=gen_order);\n",
    "\n"
   ]
  }
 ],
 "metadata": {
  "kernelspec": {
   "display_name": "AI-ML",
   "language": "python",
   "name": "python3"
  },
  "language_info": {
   "codemirror_mode": {
    "name": "ipython",
    "version": 3
   },
   "file_extension": ".py",
   "mimetype": "text/x-python",
   "name": "python",
   "nbconvert_exporter": "python",
   "pygments_lexer": "ipython3",
   "version": "3.13.1"
  }
 },
 "nbformat": 4,
 "nbformat_minor": 2
}
