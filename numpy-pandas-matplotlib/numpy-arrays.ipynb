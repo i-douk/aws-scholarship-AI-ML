{
 "cells": [
  {
   "cell_type": "markdown",
   "metadata": {},
   "source": [
    "# Manipulating arrays with numpy"
   ]
  },
  {
   "cell_type": "code",
   "execution_count": 4,
   "metadata": {},
   "outputs": [
    {
     "name": "stdout",
     "output_type": "stream",
     "text": [
      "Full original Array : \n",
      "\n",
      "[[ 0  1  2  3  4]\n",
      " [ 5  6  7  8  9]\n",
      " [10 11 12 13 14]\n",
      " [15 16 17 18 19]]\n",
      "Sliced Array : \n",
      "\n",
      "[[ 2  3  4]\n",
      " [ 7  8  9]\n",
      " [12 13 14]\n",
      " [17 18 19]]\n"
     ]
    }
   ],
   "source": [
    "import numpy as np\n",
    "x = np.arange(20).reshape(4,5)\n",
    "print('Full original Array : \\n')\n",
    "print(x)\n",
    "z = x[0:4,2:5]\n",
    "print('Sliced Array : \\n')\n",
    "print(z)\n"
   ]
  },
  {
   "cell_type": "code",
   "execution_count": null,
   "metadata": {},
   "outputs": [],
   "source": []
  },
  {
   "cell_type": "code",
   "execution_count": 6,
   "metadata": {},
   "outputs": [
    {
     "name": "stdout",
     "output_type": "stream",
     "text": [
      "[[ 4 13  5 13 19]\n",
      " [10  8 10 15  8]\n",
      " [ 3 14  6  7 14]\n",
      " [ 4  1 17  8  7]\n",
      " [ 6  2 16  7  5]]\n"
     ]
    }
   ],
   "source": [
    "a = np.random.randint(1,20, size=(5,5))\n",
    "print(a)"
   ]
  },
  {
   "cell_type": "code",
   "execution_count": 7,
   "metadata": {},
   "outputs": [
    {
     "name": "stdout",
     "output_type": "stream",
     "text": [
      "\n",
      "X = \n",
      " [[ 0  1  2  3  4]\n",
      " [ 5  6  7  8  9]\n",
      " [10 11 12 13 14]\n",
      " [15 16 17 18 19]]\n",
      "\n",
      "indices =  [1 3]\n",
      "\n",
      "\n",
      "Y = \n",
      " [[ 5  6  7  8  9]\n",
      " [15 16 17 18 19]]\n",
      "\n",
      "Z = \n",
      " [[ 1  3]\n",
      " [ 6  8]\n",
      " [11 13]\n",
      " [16 18]]\n"
     ]
    }
   ],
   "source": [
    "# We create a 4 x 5 ndarray that contains integers from 0 to 19\n",
    "X = np.arange(20).reshape(4, 5)\n",
    "\n",
    "# We create a rank 1 ndarray that will serve as indices to select elements from X\n",
    "indices = np.array([1,3])\n",
    "\n",
    "# We print X\n",
    "print()\n",
    "print('X = \\n', X)\n",
    "print()\n",
    "\n",
    "# We print indices\n",
    "print('indices = ', indices)\n",
    "print()\n",
    "\n",
    "# We use the indices ndarray to select the 2nd and 4th row of X\n",
    "Y = X[indices,:]\n",
    "\n",
    "# We use the indices ndarray to select the 2nd and 4th column of X\n",
    "Z = X[:, indices]\n",
    "\n",
    "# We print Y\n",
    "print()\n",
    "print('Y = \\n', Y)\n",
    "\n",
    "# We print Z\n",
    "print()\n",
    "print('Z = \\n', Z)"
   ]
  },
  {
   "cell_type": "code",
   "execution_count": 9,
   "metadata": {},
   "outputs": [
    {
     "name": "stdout",
     "output_type": "stream",
     "text": [
      "\n",
      "X = \n",
      " [[ 0  1  2  3  4]\n",
      " [ 5  6  7  8  9]\n",
      " [10 11 12 13 14]\n",
      " [15 16 17 18 19]\n",
      " [20 21 22 23 24]]\n",
      "\n",
      "z = [ 0  6 12 18 24]\n",
      "\n",
      "y = [ 2  8 14]\n",
      "\n",
      "w =  [10 16 22]\n"
     ]
    }
   ],
   "source": [
    "# We create a 5 x 5 ndarray that contains integers from 0 to 24\n",
    "X = np.arange(25).reshape(5, 5)\n",
    "\n",
    "# We print X\n",
    "print()\n",
    "print('X = \\n', X)\n",
    "print()\n",
    "\n",
    "# We print the elements in the main diagonal of X\n",
    "print('z =', np.diag(X))\n",
    "print()\n",
    "\n",
    "# We print the elements above the main diagonal of X\n",
    "print('y =', np.diag(X, k=2))\n",
    "print()\n",
    "\n",
    "# We print the elements below the main diagonal of X\n",
    "print('w = ', np.diag(X, k=-2))"
   ]
  },
  {
   "cell_type": "code",
   "execution_count": 10,
   "metadata": {},
   "outputs": [
    {
     "name": "stdout",
     "output_type": "stream",
     "text": [
      "\n",
      "X = \n",
      " [[1 2 3]\n",
      " [5 2 8]\n",
      " [1 2 3]]\n",
      "\n",
      "The unique elements in X are: [1 2 3 5 8]\n"
     ]
    }
   ],
   "source": [
    "# Create 3 x 3 ndarray with repeated values\n",
    "X = np.array([[1,2,3],[5,2,8],[1,2,3]])\n",
    "\n",
    "# We print X\n",
    "print()\n",
    "print('X = \\n', X)\n",
    "print()\n",
    "\n",
    "# We print the unique elements of X \n",
    "print('The unique elements in X are:',np.unique(X))"
   ]
  },
  {
   "cell_type": "code",
   "execution_count": null,
   "metadata": {},
   "outputs": [],
   "source": []
  }
 ],
 "metadata": {
  "kernelspec": {
   "display_name": "AI-ML",
   "language": "python",
   "name": "python3"
  },
  "language_info": {
   "codemirror_mode": {
    "name": "ipython",
    "version": 3
   },
   "file_extension": ".py",
   "mimetype": "text/x-python",
   "name": "python",
   "nbconvert_exporter": "python",
   "pygments_lexer": "ipython3",
   "version": "3.13.1"
  }
 },
 "nbformat": 4,
 "nbformat_minor": 2
}
